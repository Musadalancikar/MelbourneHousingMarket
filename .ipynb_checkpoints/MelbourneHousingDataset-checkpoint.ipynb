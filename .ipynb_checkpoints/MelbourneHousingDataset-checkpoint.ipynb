{
 "cells": [
  {
   "cell_type": "markdown",
   "id": "d7cbf85b",
   "metadata": {},
   "source": [
    "# Importing Required Libraries"
   ]
  },
  {
   "cell_type": "code",
   "execution_count": 1,
   "id": "64248189",
   "metadata": {},
   "outputs": [],
   "source": [
    "import pandas as pd\n",
    "import numpy as np\n",
    "\n",
    "import matplotlib.pyplot as plt\n",
    "import seaborn as sns\n",
    "\n",
    "from sklearn.preprocessing import StandardScaler,LabelEncoder\n",
    "from sklearn.model_selection import train_test_split, cross_validate\n",
    "from sklearn.linear_model import LinearRegression, Ridge, Lasso, ElasticNet\n",
    "from sklearn.tree import DecisionTreeRegressor\n",
    "from sklearn.ensemble import RandomForestRegressor, GradientBoostingRegressor\n",
    "from sklearn.svm import SVR\n",
    "from sklearn.metrics import mean_squared_error"
   ]
  },
  {
   "cell_type": "code",
   "execution_count": 2,
   "id": "29ea2da0",
   "metadata": {},
   "outputs": [
    {
     "data": {
      "text/html": [
       "<div>\n",
       "<style scoped>\n",
       "    .dataframe tbody tr th:only-of-type {\n",
       "        vertical-align: middle;\n",
       "    }\n",
       "\n",
       "    .dataframe tbody tr th {\n",
       "        vertical-align: top;\n",
       "    }\n",
       "\n",
       "    .dataframe thead th {\n",
       "        text-align: right;\n",
       "    }\n",
       "</style>\n",
       "<table border=\"1\" class=\"dataframe\">\n",
       "  <thead>\n",
       "    <tr style=\"text-align: right;\">\n",
       "      <th></th>\n",
       "      <th>Suburb</th>\n",
       "      <th>Address</th>\n",
       "      <th>Rooms</th>\n",
       "      <th>Type</th>\n",
       "      <th>Price</th>\n",
       "      <th>Method</th>\n",
       "      <th>SellerG</th>\n",
       "      <th>Date</th>\n",
       "      <th>Postcode</th>\n",
       "      <th>Regionname</th>\n",
       "      <th>Propertycount</th>\n",
       "      <th>Distance</th>\n",
       "      <th>CouncilArea</th>\n",
       "    </tr>\n",
       "  </thead>\n",
       "  <tbody>\n",
       "    <tr>\n",
       "      <th>0</th>\n",
       "      <td>Abbotsford</td>\n",
       "      <td>49 Lithgow St</td>\n",
       "      <td>3</td>\n",
       "      <td>h</td>\n",
       "      <td>1490000.0</td>\n",
       "      <td>S</td>\n",
       "      <td>Jellis</td>\n",
       "      <td>1/04/2017</td>\n",
       "      <td>3067</td>\n",
       "      <td>Northern Metropolitan</td>\n",
       "      <td>4019</td>\n",
       "      <td>3.0</td>\n",
       "      <td>Yarra City Council</td>\n",
       "    </tr>\n",
       "    <tr>\n",
       "      <th>1</th>\n",
       "      <td>Abbotsford</td>\n",
       "      <td>59A Turner St</td>\n",
       "      <td>3</td>\n",
       "      <td>h</td>\n",
       "      <td>1220000.0</td>\n",
       "      <td>S</td>\n",
       "      <td>Marshall</td>\n",
       "      <td>1/04/2017</td>\n",
       "      <td>3067</td>\n",
       "      <td>Northern Metropolitan</td>\n",
       "      <td>4019</td>\n",
       "      <td>3.0</td>\n",
       "      <td>Yarra City Council</td>\n",
       "    </tr>\n",
       "    <tr>\n",
       "      <th>2</th>\n",
       "      <td>Abbotsford</td>\n",
       "      <td>119B Yarra St</td>\n",
       "      <td>3</td>\n",
       "      <td>h</td>\n",
       "      <td>1420000.0</td>\n",
       "      <td>S</td>\n",
       "      <td>Nelson</td>\n",
       "      <td>1/04/2017</td>\n",
       "      <td>3067</td>\n",
       "      <td>Northern Metropolitan</td>\n",
       "      <td>4019</td>\n",
       "      <td>3.0</td>\n",
       "      <td>Yarra City Council</td>\n",
       "    </tr>\n",
       "    <tr>\n",
       "      <th>3</th>\n",
       "      <td>Aberfeldie</td>\n",
       "      <td>68 Vida St</td>\n",
       "      <td>3</td>\n",
       "      <td>h</td>\n",
       "      <td>1515000.0</td>\n",
       "      <td>S</td>\n",
       "      <td>Barry</td>\n",
       "      <td>1/04/2017</td>\n",
       "      <td>3040</td>\n",
       "      <td>Western Metropolitan</td>\n",
       "      <td>1543</td>\n",
       "      <td>7.5</td>\n",
       "      <td>Moonee Valley City Council</td>\n",
       "    </tr>\n",
       "    <tr>\n",
       "      <th>4</th>\n",
       "      <td>Airport West</td>\n",
       "      <td>92 Clydesdale Rd</td>\n",
       "      <td>2</td>\n",
       "      <td>h</td>\n",
       "      <td>670000.0</td>\n",
       "      <td>S</td>\n",
       "      <td>Nelson</td>\n",
       "      <td>1/04/2017</td>\n",
       "      <td>3042</td>\n",
       "      <td>Western Metropolitan</td>\n",
       "      <td>3464</td>\n",
       "      <td>10.4</td>\n",
       "      <td>Moonee Valley City Council</td>\n",
       "    </tr>\n",
       "  </tbody>\n",
       "</table>\n",
       "</div>"
      ],
      "text/plain": [
       "         Suburb           Address  Rooms Type      Price Method   SellerG  \\\n",
       "0    Abbotsford     49 Lithgow St      3    h  1490000.0      S    Jellis   \n",
       "1    Abbotsford     59A Turner St      3    h  1220000.0      S  Marshall   \n",
       "2    Abbotsford     119B Yarra St      3    h  1420000.0      S    Nelson   \n",
       "3    Aberfeldie        68 Vida St      3    h  1515000.0      S     Barry   \n",
       "4  Airport West  92 Clydesdale Rd      2    h   670000.0      S    Nelson   \n",
       "\n",
       "        Date  Postcode             Regionname  Propertycount  Distance  \\\n",
       "0  1/04/2017      3067  Northern Metropolitan           4019       3.0   \n",
       "1  1/04/2017      3067  Northern Metropolitan           4019       3.0   \n",
       "2  1/04/2017      3067  Northern Metropolitan           4019       3.0   \n",
       "3  1/04/2017      3040   Western Metropolitan           1543       7.5   \n",
       "4  1/04/2017      3042   Western Metropolitan           3464      10.4   \n",
       "\n",
       "                  CouncilArea  \n",
       "0          Yarra City Council  \n",
       "1          Yarra City Council  \n",
       "2          Yarra City Council  \n",
       "3  Moonee Valley City Council  \n",
       "4  Moonee Valley City Council  "
      ]
     },
     "execution_count": 2,
     "metadata": {},
     "output_type": "execute_result"
    }
   ],
   "source": [
    "df = pd.read_csv(\"MELBOURNE_HOUSE_PRICES_LESS.csv\")\n",
    "df_copy = df.copy()\n",
    "df_copy.head()"
   ]
  },
  {
   "cell_type": "code",
   "execution_count": 3,
   "id": "04bfcbfd",
   "metadata": {},
   "outputs": [
    {
     "name": "stdout",
     "output_type": "stream",
     "text": [
      "<class 'pandas.core.frame.DataFrame'>\n",
      "RangeIndex: 63023 entries, 0 to 63022\n",
      "Data columns (total 13 columns):\n",
      " #   Column         Non-Null Count  Dtype  \n",
      "---  ------         --------------  -----  \n",
      " 0   Suburb         63023 non-null  object \n",
      " 1   Address        63023 non-null  object \n",
      " 2   Rooms          63023 non-null  int64  \n",
      " 3   Type           63023 non-null  object \n",
      " 4   Price          48433 non-null  float64\n",
      " 5   Method         63023 non-null  object \n",
      " 6   SellerG        63023 non-null  object \n",
      " 7   Date           63023 non-null  object \n",
      " 8   Postcode       63023 non-null  int64  \n",
      " 9   Regionname     63023 non-null  object \n",
      " 10  Propertycount  63023 non-null  int64  \n",
      " 11  Distance       63023 non-null  float64\n",
      " 12  CouncilArea    63023 non-null  object \n",
      "dtypes: float64(2), int64(3), object(8)\n",
      "memory usage: 6.3+ MB\n"
     ]
    }
   ],
   "source": [
    "df_copy.info()"
   ]
  },
  {
   "cell_type": "code",
   "execution_count": 4,
   "id": "ebbec564",
   "metadata": {},
   "outputs": [
    {
     "name": "stdout",
     "output_type": "stream",
     "text": [
      "Shape     : (63023, 13)\n",
      "Size      : 819299\n",
      "Dimension : 2\n"
     ]
    }
   ],
   "source": [
    "print(f'Shape     : {df_copy.shape}\\n'\n",
    "      f'Size      : {df_copy.size}\\n' \n",
    "      f'Dimension : {df_copy.ndim}')"
   ]
  },
  {
   "cell_type": "code",
   "execution_count": 5,
   "id": "becf165c",
   "metadata": {},
   "outputs": [
    {
     "data": {
      "text/plain": [
       "Suburb               0\n",
       "Address              0\n",
       "Rooms                0\n",
       "Type                 0\n",
       "Price            14590\n",
       "Method               0\n",
       "SellerG              0\n",
       "Date                 0\n",
       "Postcode             0\n",
       "Regionname           0\n",
       "Propertycount        0\n",
       "Distance             0\n",
       "CouncilArea          0\n",
       "dtype: int64"
      ]
     },
     "execution_count": 5,
     "metadata": {},
     "output_type": "execute_result"
    }
   ],
   "source": [
    "df_copy.isnull().sum()"
   ]
  },
  {
   "cell_type": "code",
   "execution_count": 6,
   "id": "5daf93f2",
   "metadata": {},
   "outputs": [
    {
     "data": {
      "text/plain": [
       "2"
      ]
     },
     "execution_count": 6,
     "metadata": {},
     "output_type": "execute_result"
    }
   ],
   "source": [
    "df_copy.duplicated().sum()"
   ]
  },
  {
   "cell_type": "code",
   "execution_count": 7,
   "id": "98d46bc1",
   "metadata": {},
   "outputs": [
    {
     "data": {
      "text/html": [
       "<div>\n",
       "<style scoped>\n",
       "    .dataframe tbody tr th:only-of-type {\n",
       "        vertical-align: middle;\n",
       "    }\n",
       "\n",
       "    .dataframe tbody tr th {\n",
       "        vertical-align: top;\n",
       "    }\n",
       "\n",
       "    .dataframe thead th {\n",
       "        text-align: right;\n",
       "    }\n",
       "</style>\n",
       "<table border=\"1\" class=\"dataframe\">\n",
       "  <thead>\n",
       "    <tr style=\"text-align: right;\">\n",
       "      <th></th>\n",
       "      <th>Suburb</th>\n",
       "      <th>Address</th>\n",
       "      <th>Rooms</th>\n",
       "      <th>Type</th>\n",
       "      <th>Price</th>\n",
       "      <th>Method</th>\n",
       "      <th>SellerG</th>\n",
       "      <th>Date</th>\n",
       "      <th>Postcode</th>\n",
       "      <th>Regionname</th>\n",
       "      <th>Propertycount</th>\n",
       "      <th>Distance</th>\n",
       "      <th>CouncilArea</th>\n",
       "    </tr>\n",
       "  </thead>\n",
       "  <tbody>\n",
       "    <tr>\n",
       "      <th>8041</th>\n",
       "      <td>Fitzroy North</td>\n",
       "      <td>5/16 Taplin St</td>\n",
       "      <td>2</td>\n",
       "      <td>h</td>\n",
       "      <td>1010000.0</td>\n",
       "      <td>SP</td>\n",
       "      <td>Woodards</td>\n",
       "      <td>5/05/2018</td>\n",
       "      <td>3068</td>\n",
       "      <td>Northern Metropolitan</td>\n",
       "      <td>6244</td>\n",
       "      <td>3.6</td>\n",
       "      <td>Moreland City Council</td>\n",
       "    </tr>\n",
       "    <tr>\n",
       "      <th>8042</th>\n",
       "      <td>Fitzroy North</td>\n",
       "      <td>5/16 Taplin St</td>\n",
       "      <td>2</td>\n",
       "      <td>h</td>\n",
       "      <td>1010000.0</td>\n",
       "      <td>SP</td>\n",
       "      <td>Woodards</td>\n",
       "      <td>5/05/2018</td>\n",
       "      <td>3068</td>\n",
       "      <td>Northern Metropolitan</td>\n",
       "      <td>6244</td>\n",
       "      <td>3.6</td>\n",
       "      <td>Moreland City Council</td>\n",
       "    </tr>\n",
       "    <tr>\n",
       "      <th>33941</th>\n",
       "      <td>Nunawading</td>\n",
       "      <td>1/7 Lilian St</td>\n",
       "      <td>3</td>\n",
       "      <td>t</td>\n",
       "      <td>NaN</td>\n",
       "      <td>SP</td>\n",
       "      <td>Jellis</td>\n",
       "      <td>17/06/2017</td>\n",
       "      <td>3131</td>\n",
       "      <td>Eastern Metropolitan</td>\n",
       "      <td>4973</td>\n",
       "      <td>15.4</td>\n",
       "      <td>Manningham City Council</td>\n",
       "    </tr>\n",
       "    <tr>\n",
       "      <th>33942</th>\n",
       "      <td>Nunawading</td>\n",
       "      <td>1/7 Lilian St</td>\n",
       "      <td>3</td>\n",
       "      <td>t</td>\n",
       "      <td>NaN</td>\n",
       "      <td>SP</td>\n",
       "      <td>Jellis</td>\n",
       "      <td>17/06/2017</td>\n",
       "      <td>3131</td>\n",
       "      <td>Eastern Metropolitan</td>\n",
       "      <td>4973</td>\n",
       "      <td>15.4</td>\n",
       "      <td>Manningham City Council</td>\n",
       "    </tr>\n",
       "  </tbody>\n",
       "</table>\n",
       "</div>"
      ],
      "text/plain": [
       "              Suburb         Address  Rooms Type      Price Method   SellerG  \\\n",
       "8041   Fitzroy North  5/16 Taplin St      2    h  1010000.0     SP  Woodards   \n",
       "8042   Fitzroy North  5/16 Taplin St      2    h  1010000.0     SP  Woodards   \n",
       "33941     Nunawading   1/7 Lilian St      3    t        NaN     SP    Jellis   \n",
       "33942     Nunawading   1/7 Lilian St      3    t        NaN     SP    Jellis   \n",
       "\n",
       "             Date  Postcode             Regionname  Propertycount  Distance  \\\n",
       "8041    5/05/2018      3068  Northern Metropolitan           6244       3.6   \n",
       "8042    5/05/2018      3068  Northern Metropolitan           6244       3.6   \n",
       "33941  17/06/2017      3131   Eastern Metropolitan           4973      15.4   \n",
       "33942  17/06/2017      3131   Eastern Metropolitan           4973      15.4   \n",
       "\n",
       "                   CouncilArea  \n",
       "8041     Moreland City Council  \n",
       "8042     Moreland City Council  \n",
       "33941  Manningham City Council  \n",
       "33942  Manningham City Council  "
      ]
     },
     "execution_count": 7,
     "metadata": {},
     "output_type": "execute_result"
    }
   ],
   "source": [
    "df_copy.loc[df_copy.duplicated(keep=False), :]"
   ]
  },
  {
   "cell_type": "code",
   "execution_count": 8,
   "id": "70cfdeaa",
   "metadata": {},
   "outputs": [
    {
     "data": {
      "text/html": [
       "<div>\n",
       "<style scoped>\n",
       "    .dataframe tbody tr th:only-of-type {\n",
       "        vertical-align: middle;\n",
       "    }\n",
       "\n",
       "    .dataframe tbody tr th {\n",
       "        vertical-align: top;\n",
       "    }\n",
       "\n",
       "    .dataframe thead th {\n",
       "        text-align: right;\n",
       "    }\n",
       "</style>\n",
       "<table border=\"1\" class=\"dataframe\">\n",
       "  <thead>\n",
       "    <tr style=\"text-align: right;\">\n",
       "      <th></th>\n",
       "      <th>Suburb</th>\n",
       "      <th>Address</th>\n",
       "      <th>Rooms</th>\n",
       "      <th>Type</th>\n",
       "      <th>Price</th>\n",
       "      <th>Method</th>\n",
       "      <th>SellerG</th>\n",
       "      <th>Date</th>\n",
       "      <th>Postcode</th>\n",
       "      <th>Regionname</th>\n",
       "      <th>Propertycount</th>\n",
       "      <th>Distance</th>\n",
       "      <th>CouncilArea</th>\n",
       "    </tr>\n",
       "  </thead>\n",
       "  <tbody>\n",
       "    <tr>\n",
       "      <th>0</th>\n",
       "      <td>Abbotsford</td>\n",
       "      <td>49 Lithgow St</td>\n",
       "      <td>3</td>\n",
       "      <td>h</td>\n",
       "      <td>1490000.0</td>\n",
       "      <td>S</td>\n",
       "      <td>Jellis</td>\n",
       "      <td>1/04/2017</td>\n",
       "      <td>3067</td>\n",
       "      <td>Northern Metropolitan</td>\n",
       "      <td>4019</td>\n",
       "      <td>3.0</td>\n",
       "      <td>Yarra City Council</td>\n",
       "    </tr>\n",
       "    <tr>\n",
       "      <th>1</th>\n",
       "      <td>Abbotsford</td>\n",
       "      <td>59A Turner St</td>\n",
       "      <td>3</td>\n",
       "      <td>h</td>\n",
       "      <td>1220000.0</td>\n",
       "      <td>S</td>\n",
       "      <td>Marshall</td>\n",
       "      <td>1/04/2017</td>\n",
       "      <td>3067</td>\n",
       "      <td>Northern Metropolitan</td>\n",
       "      <td>4019</td>\n",
       "      <td>3.0</td>\n",
       "      <td>Yarra City Council</td>\n",
       "    </tr>\n",
       "    <tr>\n",
       "      <th>2</th>\n",
       "      <td>Abbotsford</td>\n",
       "      <td>119B Yarra St</td>\n",
       "      <td>3</td>\n",
       "      <td>h</td>\n",
       "      <td>1420000.0</td>\n",
       "      <td>S</td>\n",
       "      <td>Nelson</td>\n",
       "      <td>1/04/2017</td>\n",
       "      <td>3067</td>\n",
       "      <td>Northern Metropolitan</td>\n",
       "      <td>4019</td>\n",
       "      <td>3.0</td>\n",
       "      <td>Yarra City Council</td>\n",
       "    </tr>\n",
       "    <tr>\n",
       "      <th>3</th>\n",
       "      <td>Aberfeldie</td>\n",
       "      <td>68 Vida St</td>\n",
       "      <td>3</td>\n",
       "      <td>h</td>\n",
       "      <td>1515000.0</td>\n",
       "      <td>S</td>\n",
       "      <td>Barry</td>\n",
       "      <td>1/04/2017</td>\n",
       "      <td>3040</td>\n",
       "      <td>Western Metropolitan</td>\n",
       "      <td>1543</td>\n",
       "      <td>7.5</td>\n",
       "      <td>Moonee Valley City Council</td>\n",
       "    </tr>\n",
       "    <tr>\n",
       "      <th>4</th>\n",
       "      <td>Airport West</td>\n",
       "      <td>92 Clydesdale Rd</td>\n",
       "      <td>2</td>\n",
       "      <td>h</td>\n",
       "      <td>670000.0</td>\n",
       "      <td>S</td>\n",
       "      <td>Nelson</td>\n",
       "      <td>1/04/2017</td>\n",
       "      <td>3042</td>\n",
       "      <td>Western Metropolitan</td>\n",
       "      <td>3464</td>\n",
       "      <td>10.4</td>\n",
       "      <td>Moonee Valley City Council</td>\n",
       "    </tr>\n",
       "    <tr>\n",
       "      <th>...</th>\n",
       "      <td>...</td>\n",
       "      <td>...</td>\n",
       "      <td>...</td>\n",
       "      <td>...</td>\n",
       "      <td>...</td>\n",
       "      <td>...</td>\n",
       "      <td>...</td>\n",
       "      <td>...</td>\n",
       "      <td>...</td>\n",
       "      <td>...</td>\n",
       "      <td>...</td>\n",
       "      <td>...</td>\n",
       "      <td>...</td>\n",
       "    </tr>\n",
       "    <tr>\n",
       "      <th>63018</th>\n",
       "      <td>Roxburgh Park</td>\n",
       "      <td>3 Carr Pl</td>\n",
       "      <td>3</td>\n",
       "      <td>h</td>\n",
       "      <td>566000.0</td>\n",
       "      <td>S</td>\n",
       "      <td>Raine</td>\n",
       "      <td>31/03/2018</td>\n",
       "      <td>3064</td>\n",
       "      <td>Northern Metropolitan</td>\n",
       "      <td>5833</td>\n",
       "      <td>20.6</td>\n",
       "      <td>Hume City Council</td>\n",
       "    </tr>\n",
       "    <tr>\n",
       "      <th>63019</th>\n",
       "      <td>Roxburgh Park</td>\n",
       "      <td>9 Parker Ct</td>\n",
       "      <td>3</td>\n",
       "      <td>h</td>\n",
       "      <td>500000.0</td>\n",
       "      <td>S</td>\n",
       "      <td>Raine</td>\n",
       "      <td>31/03/2018</td>\n",
       "      <td>3064</td>\n",
       "      <td>Northern Metropolitan</td>\n",
       "      <td>5833</td>\n",
       "      <td>20.6</td>\n",
       "      <td>Hume City Council</td>\n",
       "    </tr>\n",
       "    <tr>\n",
       "      <th>63020</th>\n",
       "      <td>Roxburgh Park</td>\n",
       "      <td>5 Parkinson Wy</td>\n",
       "      <td>3</td>\n",
       "      <td>h</td>\n",
       "      <td>545000.0</td>\n",
       "      <td>S</td>\n",
       "      <td>Raine</td>\n",
       "      <td>31/03/2018</td>\n",
       "      <td>3064</td>\n",
       "      <td>Northern Metropolitan</td>\n",
       "      <td>5833</td>\n",
       "      <td>20.6</td>\n",
       "      <td>Hume City Council</td>\n",
       "    </tr>\n",
       "    <tr>\n",
       "      <th>63021</th>\n",
       "      <td>Thomastown</td>\n",
       "      <td>3/1 Travers St</td>\n",
       "      <td>3</td>\n",
       "      <td>u</td>\n",
       "      <td>NaN</td>\n",
       "      <td>PI</td>\n",
       "      <td>Barry</td>\n",
       "      <td>31/03/2018</td>\n",
       "      <td>3074</td>\n",
       "      <td>Northern Metropolitan</td>\n",
       "      <td>7955</td>\n",
       "      <td>15.3</td>\n",
       "      <td>Whittlesea City Council</td>\n",
       "    </tr>\n",
       "    <tr>\n",
       "      <th>63022</th>\n",
       "      <td>Williams Landing</td>\n",
       "      <td>1 Diadem Wy</td>\n",
       "      <td>4</td>\n",
       "      <td>h</td>\n",
       "      <td>NaN</td>\n",
       "      <td>SP</td>\n",
       "      <td>Aussie</td>\n",
       "      <td>31/03/2018</td>\n",
       "      <td>3027</td>\n",
       "      <td>Western Metropolitan</td>\n",
       "      <td>1999</td>\n",
       "      <td>17.6</td>\n",
       "      <td>Wyndham City Council</td>\n",
       "    </tr>\n",
       "  </tbody>\n",
       "</table>\n",
       "<p>63021 rows × 13 columns</p>\n",
       "</div>"
      ],
      "text/plain": [
       "                 Suburb           Address  Rooms Type      Price Method  \\\n",
       "0            Abbotsford     49 Lithgow St      3    h  1490000.0      S   \n",
       "1            Abbotsford     59A Turner St      3    h  1220000.0      S   \n",
       "2            Abbotsford     119B Yarra St      3    h  1420000.0      S   \n",
       "3            Aberfeldie        68 Vida St      3    h  1515000.0      S   \n",
       "4          Airport West  92 Clydesdale Rd      2    h   670000.0      S   \n",
       "...                 ...               ...    ...  ...        ...    ...   \n",
       "63018     Roxburgh Park         3 Carr Pl      3    h   566000.0      S   \n",
       "63019     Roxburgh Park       9 Parker Ct      3    h   500000.0      S   \n",
       "63020     Roxburgh Park    5 Parkinson Wy      3    h   545000.0      S   \n",
       "63021        Thomastown    3/1 Travers St      3    u        NaN     PI   \n",
       "63022  Williams Landing       1 Diadem Wy      4    h        NaN     SP   \n",
       "\n",
       "        SellerG        Date  Postcode             Regionname  Propertycount  \\\n",
       "0        Jellis   1/04/2017      3067  Northern Metropolitan           4019   \n",
       "1      Marshall   1/04/2017      3067  Northern Metropolitan           4019   \n",
       "2        Nelson   1/04/2017      3067  Northern Metropolitan           4019   \n",
       "3         Barry   1/04/2017      3040   Western Metropolitan           1543   \n",
       "4        Nelson   1/04/2017      3042   Western Metropolitan           3464   \n",
       "...         ...         ...       ...                    ...            ...   \n",
       "63018     Raine  31/03/2018      3064  Northern Metropolitan           5833   \n",
       "63019     Raine  31/03/2018      3064  Northern Metropolitan           5833   \n",
       "63020     Raine  31/03/2018      3064  Northern Metropolitan           5833   \n",
       "63021     Barry  31/03/2018      3074  Northern Metropolitan           7955   \n",
       "63022    Aussie  31/03/2018      3027   Western Metropolitan           1999   \n",
       "\n",
       "       Distance                 CouncilArea  \n",
       "0           3.0          Yarra City Council  \n",
       "1           3.0          Yarra City Council  \n",
       "2           3.0          Yarra City Council  \n",
       "3           7.5  Moonee Valley City Council  \n",
       "4          10.4  Moonee Valley City Council  \n",
       "...         ...                         ...  \n",
       "63018      20.6           Hume City Council  \n",
       "63019      20.6           Hume City Council  \n",
       "63020      20.6           Hume City Council  \n",
       "63021      15.3     Whittlesea City Council  \n",
       "63022      17.6        Wyndham City Council  \n",
       "\n",
       "[63021 rows x 13 columns]"
      ]
     },
     "execution_count": 8,
     "metadata": {},
     "output_type": "execute_result"
    }
   ],
   "source": [
    "df_copy.drop_duplicates(inplace=True)\n",
    "df_copy"
   ]
  },
  {
   "cell_type": "code",
   "execution_count": 9,
   "id": "4e278bef",
   "metadata": {},
   "outputs": [
    {
     "data": {
      "text/plain": [
       "0"
      ]
     },
     "execution_count": 9,
     "metadata": {},
     "output_type": "execute_result"
    }
   ],
   "source": [
    "df_copy.duplicated().sum()"
   ]
  },
  {
   "cell_type": "code",
   "execution_count": 10,
   "id": "56cbefc4",
   "metadata": {},
   "outputs": [
    {
     "data": {
      "text/html": [
       "<div>\n",
       "<style scoped>\n",
       "    .dataframe tbody tr th:only-of-type {\n",
       "        vertical-align: middle;\n",
       "    }\n",
       "\n",
       "    .dataframe tbody tr th {\n",
       "        vertical-align: top;\n",
       "    }\n",
       "\n",
       "    .dataframe thead th {\n",
       "        text-align: right;\n",
       "    }\n",
       "</style>\n",
       "<table border=\"1\" class=\"dataframe\">\n",
       "  <thead>\n",
       "    <tr style=\"text-align: right;\">\n",
       "      <th></th>\n",
       "      <th>count</th>\n",
       "      <th>mean</th>\n",
       "      <th>std</th>\n",
       "      <th>min</th>\n",
       "      <th>25%</th>\n",
       "      <th>50%</th>\n",
       "      <th>75%</th>\n",
       "      <th>max</th>\n",
       "    </tr>\n",
       "  </thead>\n",
       "  <tbody>\n",
       "    <tr>\n",
       "      <th>Rooms</th>\n",
       "      <td>63021.0</td>\n",
       "      <td>3.110614</td>\n",
       "      <td>0.957556</td>\n",
       "      <td>1.0</td>\n",
       "      <td>3.0</td>\n",
       "      <td>3.0</td>\n",
       "      <td>4.0</td>\n",
       "      <td>31.0</td>\n",
       "    </tr>\n",
       "    <tr>\n",
       "      <th>Price</th>\n",
       "      <td>48432.0</td>\n",
       "      <td>997897.991617</td>\n",
       "      <td>593505.043721</td>\n",
       "      <td>85000.0</td>\n",
       "      <td>620000.0</td>\n",
       "      <td>830000.0</td>\n",
       "      <td>1220000.0</td>\n",
       "      <td>11200000.0</td>\n",
       "    </tr>\n",
       "    <tr>\n",
       "      <th>Postcode</th>\n",
       "      <td>63021.0</td>\n",
       "      <td>3125.674727</td>\n",
       "      <td>125.628659</td>\n",
       "      <td>3000.0</td>\n",
       "      <td>3056.0</td>\n",
       "      <td>3107.0</td>\n",
       "      <td>3163.0</td>\n",
       "      <td>3980.0</td>\n",
       "    </tr>\n",
       "    <tr>\n",
       "      <th>Propertycount</th>\n",
       "      <td>63021.0</td>\n",
       "      <td>7617.791895</td>\n",
       "      <td>4424.477446</td>\n",
       "      <td>39.0</td>\n",
       "      <td>4380.0</td>\n",
       "      <td>6795.0</td>\n",
       "      <td>10412.0</td>\n",
       "      <td>21650.0</td>\n",
       "    </tr>\n",
       "    <tr>\n",
       "      <th>Distance</th>\n",
       "      <td>63021.0</td>\n",
       "      <td>12.684930</td>\n",
       "      <td>7.592042</td>\n",
       "      <td>0.0</td>\n",
       "      <td>7.0</td>\n",
       "      <td>11.4</td>\n",
       "      <td>16.7</td>\n",
       "      <td>64.1</td>\n",
       "    </tr>\n",
       "  </tbody>\n",
       "</table>\n",
       "</div>"
      ],
      "text/plain": [
       "                 count           mean            std      min       25%  \\\n",
       "Rooms          63021.0       3.110614       0.957556      1.0       3.0   \n",
       "Price          48432.0  997897.991617  593505.043721  85000.0  620000.0   \n",
       "Postcode       63021.0    3125.674727     125.628659   3000.0    3056.0   \n",
       "Propertycount  63021.0    7617.791895    4424.477446     39.0    4380.0   \n",
       "Distance       63021.0      12.684930       7.592042      0.0       7.0   \n",
       "\n",
       "                    50%        75%         max  \n",
       "Rooms               3.0        4.0        31.0  \n",
       "Price          830000.0  1220000.0  11200000.0  \n",
       "Postcode         3107.0     3163.0      3980.0  \n",
       "Propertycount    6795.0    10412.0     21650.0  \n",
       "Distance           11.4       16.7        64.1  "
      ]
     },
     "execution_count": 10,
     "metadata": {},
     "output_type": "execute_result"
    }
   ],
   "source": [
    "df_copy.describe().T"
   ]
  },
  {
   "cell_type": "code",
   "execution_count": 11,
   "id": "582ba089",
   "metadata": {},
   "outputs": [
    {
     "data": {
      "text/plain": [
       "Suburb             380\n",
       "Address          57754\n",
       "Rooms               14\n",
       "Type                 3\n",
       "Price             3417\n",
       "Method               9\n",
       "SellerG            476\n",
       "Date               112\n",
       "Postcode           225\n",
       "Regionname           8\n",
       "Propertycount      368\n",
       "Distance           180\n",
       "CouncilArea         34\n",
       "dtype: int64"
      ]
     },
     "execution_count": 11,
     "metadata": {},
     "output_type": "execute_result"
    }
   ],
   "source": [
    "df_copy.nunique()"
   ]
  },
  {
   "cell_type": "code",
   "execution_count": 12,
   "id": "0710bb95",
   "metadata": {},
   "outputs": [
    {
     "name": "stdout",
     "output_type": "stream",
     "text": [
      "Index(['Suburb', 'Address', 'Type', 'Method', 'SellerG', 'Date', 'Regionname',\n",
      "       'CouncilArea'],\n",
      "      dtype='object')\n"
     ]
    }
   ],
   "source": [
    "print(df_copy.select_dtypes(['object']).columns)"
   ]
  },
  {
   "cell_type": "code",
   "execution_count": 13,
   "id": "488ae9eb",
   "metadata": {},
   "outputs": [],
   "source": [
    "obj_cats = ['Suburb', 'Address', 'Type', 'Method', 'SellerG', 'CouncilArea', 'Regionname']"
   ]
  },
  {
   "cell_type": "code",
   "execution_count": 14,
   "id": "068da678",
   "metadata": {},
   "outputs": [],
   "source": [
    "df_copy['Date'] = pd.to_datetime(df_copy['Date'])"
   ]
  },
  {
   "cell_type": "code",
   "execution_count": 15,
   "id": "ce326a17",
   "metadata": {},
   "outputs": [],
   "source": [
    "from sklearn.preprocessing import LabelEncoder\n",
    "\n",
    "label_encoder = LabelEncoder()\n",
    "df_copy['Type'] = label_encoder.fit_transform(df_copy['Type'])"
   ]
  },
  {
   "cell_type": "code",
   "execution_count": 16,
   "id": "9fcf5792",
   "metadata": {},
   "outputs": [],
   "source": [
    "df_copy = pd.get_dummies(df_copy, columns=['Suburb', 'Method', 'Regionname', 'CouncilArea'])"
   ]
  },
  {
   "cell_type": "code",
   "execution_count": 17,
   "id": "342da07a",
   "metadata": {},
   "outputs": [
    {
     "data": {
      "image/png": "[encoded data removed]",
      "text/plain": [
       "<Figure size 1000x600 with 1 Axes>"
      ]
     },
     "metadata": {},
     "output_type": "display_data"
    }
   ],
   "source": [
    "plt.figure(figsize=(10, 6))\n",
    "sns.histplot(df_copy['Price'], bins=30, kde=True)\n",
    "plt.title(\"Hedef Değişken Dağılımı (Price)\")\n",
    "plt.show()"
   ]
  },
  {
   "cell_type": "code",
   "execution_count": 18,
   "id": "17b4182c",
   "metadata": {},
   "outputs": [
    {
     "data": {
      "image/png": "[encoded data removed]",
      "text/plain": [
       "<Figure size 1000x600 with 1 Axes>"
      ]
     },
     "metadata": {},
     "output_type": "display_data"
    }
   ],
   "source": [
    "plt.figure(figsize=(10, 6))\n",
    "sns.histplot(df_copy['Rooms'], bins=30, kde=True)\n",
    "plt.title(\"Rooms Sütunu Dağılımı\")\n",
    "plt.show()"
   ]
  },
  {
   "cell_type": "code",
   "execution_count": 19,
   "id": "66d6d1b2",
   "metadata": {},
   "outputs": [
    {
     "data": {
      "image/png": "[encoded data removed]",
      "text/plain": [
       "<Figure size 2000x1000 with 2 Axes>"
      ]
     },
     "metadata": {},
     "output_type": "display_data"
    }
   ],
   "source": [
    "corr = df.corr()\n",
    "plt.figure(figsize=(20,10))\n",
    "sns.heatmap(corr, cmap=\"Blues\", annot=True);\n",
    "plt.title(\"corr\")\n",
    "plt.show()"
   ]
  },
  {
   "cell_type": "code",
   "execution_count": 20,
   "id": "056c2642",
   "metadata": {},
   "outputs": [
    {
     "data": {
      "image/png": "[encoded data removed]",
      "text/plain": [
       "<Figure size 1000x600 with 1 Axes>"
      ]
     },
     "metadata": {},
     "output_type": "display_data"
    }
   ],
   "source": [
    "plt.figure(figsize=(10, 6))\n",
    "sns.scatterplot(data=df_copy, x='Rooms', y='Price')\n",
    "plt.title(\"Rooms ile Price Arasındaki İlişki\")\n",
    "plt.show()"
   ]
  },
  {
   "cell_type": "code",
   "execution_count": 21,
   "id": "61efc954",
   "metadata": {
    "scrolled": true
   },
   "outputs": [
    {
     "data": {
      "image/png": "[encoded data removed]",
      "text/plain": [
       "<Figure size 1000x600 with 1 Axes>"
      ]
     },
     "metadata": {},
     "output_type": "display_data"
    }
   ],
   "source": [
    "plt.figure(figsize=(10, 6))\n",
    "sns.boxplot(data=df_copy, x='Rooms')\n",
    "plt.title(\"Rooms Sütunu için Box Plot\")\n",
    "plt.show()"
   ]
  },
  {
   "cell_type": "code",
   "execution_count": 22,
   "id": "52b65dfa",
   "metadata": {},
   "outputs": [
    {
     "data": {
      "text/plain": [
       "Address                                       0\n",
       "Rooms                                         0\n",
       "Type                                          0\n",
       "Price                                     14589\n",
       "SellerG                                       0\n",
       "                                          ...  \n",
       "CouncilArea_Whitehorse City Council           0\n",
       "CouncilArea_Whittlesea City Council           0\n",
       "CouncilArea_Wyndham City Council              0\n",
       "CouncilArea_Yarra City Council                0\n",
       "CouncilArea_Yarra Ranges Shire Council        0\n",
       "Length: 440, dtype: int64"
      ]
     },
     "execution_count": 22,
     "metadata": {},
     "output_type": "execute_result"
    }
   ],
   "source": [
    "df_copy.isnull().sum()"
   ]
  },
  {
   "cell_type": "code",
   "execution_count": 23,
   "id": "79fe7543",
   "metadata": {},
   "outputs": [],
   "source": [
    "df_copy.dropna(inplace=True)"
   ]
  },
  {
   "cell_type": "code",
   "execution_count": 24,
   "id": "256714a0",
   "metadata": {},
   "outputs": [],
   "source": [
    "from sklearn.model_selection import train_test_split\n",
    "X = df_copy.drop([\"Price\", \"Address\", \"SellerG\", \"Date\"], axis=1)\n",
    "y = df_copy[\"Price\"]\n",
    "\n",
    "X_train, X_test, y_train, y_test = train_test_split(X, y, test_size=0.2, random_state=42)"
   ]
  },
  {
   "cell_type": "code",
   "execution_count": 25,
   "id": "c83d2dd5",
   "metadata": {},
   "outputs": [],
   "source": [
    "from sklearn.linear_model import Lasso, LinearRegression, Ridge, ElasticNet\n",
    "from sklearn.neighbors import KNeighborsRegressor\n",
    "from sklearn.ensemble import RandomForestRegressor, GradientBoostingRegressor, AdaBoostRegressor\n",
    "\n",
    "models = {\n",
    "    'Lasso': {\n",
    "        'model': Lasso()\n",
    "    },\n",
    "    'LinearRegression': {\n",
    "        'model': LinearRegression()\n",
    "    },\n",
    "    'Ridge': {\n",
    "        'model': Ridge()\n",
    "    },\n",
    "    'ElasticNet': {\n",
    "        'model': ElasticNet()\n",
    "    },\n",
    "    'KNeighborsRegressor': {\n",
    "        'model': KNeighborsRegressor()\n",
    "    },\n",
    "    'RandomForestRegressor': {\n",
    "        'model': RandomForestRegressor()\n",
    "    },\n",
    "    'GradientBoostingRegressor': {\n",
    "        'model': GradientBoostingRegressor()\n",
    "    },\n",
    "    'AdaBoostRegressor': {\n",
    "        'model': AdaBoostRegressor(n_estimators=5, learning_rate=1.2, loss='exponential', random_state=2)\n",
    "    }\n",
    "}\n"
   ]
  },
  {
   "cell_type": "code",
   "execution_count": 26,
   "id": "64b7d3d7",
   "metadata": {},
   "outputs": [
    {
     "name": "stderr",
     "output_type": "stream",
     "text": [
      "C:\\Users\\musad\\anaconda3\\envs\\deeplearning\\lib\\site-packages\\sklearn\\linear_model\\_coordinate_descent.py:648: ConvergenceWarning: Objective did not converge. You might want to increase the number of iterations, check the scale of the features or consider increasing regularisation. Duality gap: 2.409e+15, tolerance: 1.367e+12\n",
      "  coef_, l1_reg, l2_reg, X, y, max_iter, tol, rng, random, positive\n"
     ]
    },
    {
     "name": "stdout",
     "output_type": "stream",
     "text": [
      "Lasso:\n",
      "Mean Squared Error (MSE): 132776540120.82574\n",
      "R-squared (R2): 0.6209287210675927\n",
      "-----------\n",
      "LinearRegression:\n",
      "Mean Squared Error (MSE): 4.8938811604697585e+22\n",
      "R-squared (R2): -139718190332.49792\n",
      "-----------\n",
      "Ridge:\n",
      "Mean Squared Error (MSE): 132719655410.15797\n",
      "R-squared (R2): 0.6210911244560595\n",
      "-----------\n",
      "ElasticNet:\n",
      "Mean Squared Error (MSE): 200421141253.29855\n",
      "R-squared (R2): 0.42780631073196496\n",
      "-----------\n",
      "KNeighborsRegressor:\n",
      "Mean Squared Error (MSE): 113729268978.72134\n",
      "R-squared (R2): 0.6753078563081965\n",
      "-----------\n",
      "RandomForestRegressor:\n",
      "Mean Squared Error (MSE): 107343640394.32654\n",
      "R-squared (R2): 0.6935385497128532\n",
      "-----------\n",
      "GradientBoostingRegressor:\n",
      "Mean Squared Error (MSE): 109520249066.15413\n",
      "R-squared (R2): 0.6873244261017528\n",
      "-----------\n",
      "AdaBoostRegressor:\n",
      "Mean Squared Error (MSE): 197736707694.4034\n",
      "R-squared (R2): 0.43547025243020054\n",
      "-----------\n"
     ]
    }
   ],
   "source": [
    "from sklearn.metrics import mean_squared_error, r2_score\n",
    "\n",
    "for model_name, model_info in models.items():\n",
    "    model = model_info['model']\n",
    "    model.fit(X_train, y_train)\n",
    "    y_pred = model.predict(X_test)\n",
    "    mse = mean_squared_error(y_test, y_pred)\n",
    "    r2 = r2_score(y_test, y_pred)\n",
    "    print(f\"{model_name}:\")\n",
    "    print(f\"Mean Squared Error (MSE): {mse}\")\n",
    "    print(f\"R-squared (R2): {r2}\")\n",
    "    print(\"-----------\")"
   ]
  },
  {
   "cell_type": "code",
   "execution_count": 27,
   "id": "9ee9e897",
   "metadata": {},
   "outputs": [
    {
     "name": "stderr",
     "output_type": "stream",
     "text": [
      "C:\\Users\\musad\\anaconda3\\envs\\deeplearning\\lib\\site-packages\\sklearn\\linear_model\\_coordinate_descent.py:648: ConvergenceWarning: Objective did not converge. You might want to increase the number of iterations, check the scale of the features or consider increasing regularisation. Duality gap: 2.409e+15, tolerance: 1.367e+12\n",
      "  coef_, l1_reg, l2_reg, X, y, max_iter, tol, rng, random, positive\n"
     ]
    },
    {
     "name": "stdout",
     "output_type": "stream",
     "text": [
      "Lasso:\n",
      "MAE: 225554.9272419724\n",
      "MSE: 132776540120.82574\n",
      "RMSE: 364385.1535406262\n",
      "R2: 0.6209287210675927\n",
      "-----------\n",
      "LinearRegression:\n",
      "MAE: 3369448813.274553\n",
      "MSE: 4.8938811604697585e+22\n",
      "RMSE: 221221182540.68164\n",
      "R2: -139718190332.49792\n",
      "-----------\n",
      "Ridge:\n",
      "MAE: 225477.9822505284\n",
      "MSE: 132719655410.15797\n",
      "RMSE: 364307.0894316469\n",
      "R2: 0.6210911244560595\n",
      "-----------\n",
      "ElasticNet:\n",
      "MAE: 287681.6996915136\n",
      "MSE: 200421141253.29855\n",
      "RMSE: 447684.19812776346\n",
      "R2: 0.42780631073196496\n",
      "-----------\n",
      "KNeighborsRegressor:\n",
      "MAE: 196722.28900588417\n",
      "MSE: 113729268978.72134\n",
      "RMSE: 337237.7039696501\n",
      "R2: 0.6753078563081965\n",
      "-----------\n",
      "RandomForestRegressor:\n",
      "MAE: 185400.70303726447\n",
      "MSE: 107686298919.91393\n",
      "RMSE: 328155.9064224106\n",
      "R2: 0.692560274443643\n",
      "-----------\n",
      "GradientBoostingRegressor:\n",
      "MAE: 195927.26084845205\n",
      "MSE: 109565834836.50188\n",
      "RMSE: 331007.3032978304\n",
      "R2: 0.6871942806991754\n",
      "-----------\n",
      "AdaBoostRegressor:\n",
      "MAE: 317496.0270717838\n",
      "MSE: 197736707694.4034\n",
      "RMSE: 444675.95808004215\n",
      "R2: 0.43547025243020054\n",
      "-----------\n"
     ]
    }
   ],
   "source": [
    "from sklearn.metrics import mean_absolute_error, mean_squared_error, mean_squared_error, r2_score\n",
    "\n",
    "results = {}\n",
    "\n",
    "for model_name, model_info in models.items():\n",
    "    model = model_info['model']\n",
    "    model.fit(X_train, y_train)\n",
    "    y_pred = model.predict(X_test)\n",
    "    \n",
    "    mae = mean_absolute_error(y_test, y_pred)\n",
    "    mse = mean_squared_error(y_test, y_pred)\n",
    "    rmse = np.sqrt(mse)\n",
    "    r2 = r2_score(y_test, y_pred)\n",
    "    \n",
    "    results[model_name] = {\n",
    "        'MAE': mae,\n",
    "        'MSE': mse,\n",
    "        'RMSE': rmse,\n",
    "        'R2': r2\n",
    "    }\n",
    "\n",
    "for model_name, metrics in results.items():\n",
    "    print(f\"{model_name}:\")\n",
    "    print(f\"MAE: {metrics['MAE']}\")\n",
    "    print(f\"MSE: {metrics['MSE']}\")\n",
    "    print(f\"RMSE: {metrics['RMSE']}\")\n",
    "    print(f\"R2: {metrics['R2']}\")\n",
    "    print(\"-----------\")\n"
   ]
  },
  {
   "cell_type": "code",
   "execution_count": null,
   "id": "c28dd707",
   "metadata": {},
   "outputs": [],
   "source": []
  }
 ],
 "metadata": {
  "kernelspec": {
   "display_name": "Python 3 (ipykernel)",
   "language": "python",
   "name": "python3"
  },
  "language_info": {
   "codemirror_mode": {
    "name": "ipython",
    "version": 3
   },
   "file_extension": ".py",
   "mimetype": "text/x-python",
   "name": "python",
   "nbconvert_exporter": "python",
   "pygments_lexer": "ipython3",
   "version": "3.7.12"
  }
 },
 "nbformat": 4,
 "nbformat_minor": 5
}
